{
 "cells": [
  {
   "cell_type": "code",
   "execution_count": 15,
   "metadata": {},
   "outputs": [],
   "source": [
    "import pandas as pd\n",
    "import glob, os\n",
    "import tika\n",
    "tika.initVM()\n",
    "from tika import parser"
   ]
  },
  {
   "cell_type": "code",
   "execution_count": 16,
   "metadata": {},
   "outputs": [],
   "source": [
    "# read csv\n",
    "df = pd.read_csv('quotes.csv')\n",
    "\n",
    "# use to create appropriate file structure for pdf data\n",
    "# # https://stackabuse.com/creating-and-deleting-directories-with-python/\n",
    "\n",
    "# # define the name of the directory to be created\n",
    "# path = \"pdf/\"\n",
    "\n",
    "# # create directories\n",
    "# [os.makedirs(f\"{path}{x}/\") for x in df.name]\n",
    "\n",
    "# just in case I need these later\n",
    "# dirs = []\n",
    "# [dirs.append(f\"{path}{x}/\") for x in df.name]\n",
    "\n",
    "# dirs\n",
    "# df[\"path\"] = dirs\n",
    "# df.head()\n",
    "# df.to_csv(\"quotes.csv\", index=False)"
   ]
  },
  {
   "cell_type": "markdown",
   "metadata": {},
   "source": [
    "Cool. Now I am able to take read an arbitrary number of PDFs, strip the text, and place them in MongoDB. Im using MongoDB because we are only storing text info, plus I want to try it out"
   ]
  },
  {
   "cell_type": "code",
   "execution_count": 17,
   "metadata": {},
   "outputs": [],
   "source": [
    "MONGODB_NAME = os.environ['MONGODB_NAME']\n",
    "MONGODB_KEY = os.environ['MONGODB_KEY']\n",
    "MONGODB_DB = os.environ['MONGODB_DB']\n"
   ]
  },
  {
   "cell_type": "code",
   "execution_count": 18,
   "metadata": {},
   "outputs": [
    {
     "data": {
      "text/plain": [
       "'qwelian'"
      ]
     },
     "execution_count": 18,
     "metadata": {},
     "output_type": "execute_result"
    }
   ],
   "source": [
    "MONGODB_NAME"
   ]
  },
  {
   "cell_type": "code",
   "execution_count": 23,
   "metadata": {},
   "outputs": [],
   "source": [
    "import pymongo\n",
    "from pymongo import MongoClient\n",
    "\n"
   ]
  },
  {
   "cell_type": "code",
   "execution_count": 1,
   "metadata": {},
   "outputs": [
    {
     "ename": "SyntaxError",
     "evalue": "f-string: empty expression not allowed (<ipython-input-1-e3435f9a83e8>, line 1)",
     "output_type": "error",
     "traceback": [
      "\u001b[0;36m  File \u001b[0;32m\"<ipython-input-1-e3435f9a83e8>\"\u001b[0;36m, line \u001b[0;32m1\u001b[0m\n\u001b[0;31m    client = pymongo.MongoClient(f\"mongodb+srv://{}:{}@cluster0.7kkil.azure.mongodb.net/flp?retryWrites=true&w=majority\")\u001b[0m\n\u001b[0m                                 ^\u001b[0m\n\u001b[0;31mSyntaxError\u001b[0m\u001b[0;31m:\u001b[0m f-string: empty expression not allowed\n"
     ]
    }
   ],
   "source": [
    "client = pymongo.MongoClient(f\"mongodb+srv://{}:{}@cluster0.7kkil.azure.mongodb.net/{flp}?retryWrites=true&w=majority\")\n",
    "db = client[\"flp\"]"
   ]
  },
  {
   "cell_type": "code",
   "execution_count": 28,
   "metadata": {},
   "outputs": [],
   "source": [
    "# next i want to look at each path to each file in directory\n",
    "person = {}\n",
    "list_of_persons = []\n",
    "\n",
    "\n",
    "n = \"name\"\n",
    "t = \"text_name\"\n",
    "pt = \"parsed_text\"\n",
    "for index, row in df.iterrows():\n",
    "    for pdf_file in glob.glob(os.path.join(row['path'], '*.pdf')):\n",
    "        parsed = parser.from_file(pdf_file)\n",
    "        dict1 = {\n",
    "            n : row[n],\n",
    "            t : pdf_file,\n",
    "            pt : parsed[\"content\"]\n",
    "        }\n",
    "\n",
    "        list_of_persons.append(dict1)"
   ]
  },
  {
   "cell_type": "code",
   "execution_count": 29,
   "metadata": {},
   "outputs": [
    {
     "data": {
      "text/plain": [
       "[ObjectId('5f1353e6de4f6188d0400855'), ObjectId('5f1353e6de4f6188d0400856')]"
      ]
     },
     "execution_count": 29,
     "metadata": {},
     "output_type": "execute_result"
    }
   ],
   "source": [
    "# creates another table \n",
    "# posts = db.posts\n",
    "authors = db.authors\n",
    "result = authors.insert_many(list_of_persons)\n",
    "result.inserted_ids"
   ]
  },
  {
   "cell_type": "code",
   "execution_count": null,
   "metadata": {},
   "outputs": [],
   "source": [
    "# v1 would thus be: train from data in MDB, generate model, prompt using quotes from ...idk. im going to bed \n",
    "# before i do this, I have to find data though.......brb"
   ]
  },
  {
   "cell_type": "code",
   "execution_count": null,
   "metadata": {},
   "outputs": [],
   "source": []
  }
 ],
 "metadata": {
  "kernelspec": {
   "display_name": "Python 3",
   "language": "python",
   "name": "python3"
  },
  "language_info": {
   "codemirror_mode": {
    "name": "ipython",
    "version": 3
   },
   "file_extension": ".py",
   "mimetype": "text/x-python",
   "name": "python",
   "nbconvert_exporter": "python",
   "pygments_lexer": "ipython3",
   "version": "3.8.2"
  }
 },
 "nbformat": 4,
 "nbformat_minor": 4
}
