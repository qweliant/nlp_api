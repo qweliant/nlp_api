{
 "cells": [
  {
   "cell_type": "code",
   "execution_count": 15,
   "metadata": {},
   "outputs": [
    {
     "name": "stderr",
     "output_type": "stream",
     "text": [
      "Setting `pad_token_id` to 50256 (first `eos_token_id`) to generate sequence\n"
     ]
    }
   ],
   "source": [
    "from transformers import GPT2LMHeadModel, GPT2Tokenizer\n",
    "\n",
    "# OpenAI GPT-2\n",
    "tokenizer_gen = GPT2Tokenizer.from_pretrained('gpt2')\n",
    "model_gen = GPT2LMHeadModel.from_pretrained('gpt2')\n",
    "\n",
    "PADDING_TEXT =\"\"\"The work of an intellectual is not to mould the political will of others; it is, through the analyses that he does in his own field, to re-examine evidence and assumptions, to shake up habitual ways of working and thinking, to dissipate conventional familiarities, to re-evaluate rules and institutions and to participate in the formation of a political will (where he has his role as citizen to play)\"\"\"\n",
    "\n",
    "prompt = \"I will never understand \"\n",
    "inputs = tokenizer.encode(PADDING_TEXT + prompt, add_special_tokens=False, return_tensors=\"pt\")\n",
    "\n",
    "prompt_length = len(tokenizer_gen.decode(inputs[0], skip_special_tokens=True, clean_up_tokenization_spaces=True))\n",
    "outputs = model_gen.generate(inputs, max_length=512, do_sample=True, top_p=0.95, top_k=60)\n",
    "generated = prompt + tokenizer_gen.decode(outputs[0])[prompt_length:]\n",
    "\n",
    "# print(generated)\n",
    "\n",
    "from transformers import WEIGHTS_NAME, CONFIG_NAME\n",
    "import torch\n",
    "import os\n",
    "\n",
    "output_dir_gen = \"models/gen/\"\n",
    "\n",
    "# Step 1: Save a model, configuration and vocabulary that you have fine-tuned\n",
    "\n",
    "# # If we have a distributed model, save only the encapsulated model\n",
    "# # (it was wrapped in PyTorch DistributedDataParallel or DataParallel)\n",
    "model_to_save = model_gen.module if hasattr(model_gen, 'module') else model_gen\n",
    "\n",
    "# If we save using the predefined names, we can load using `from_pretrained`\n",
    "output_model_file = os.path.join(output_dir, WEIGHTS_NAME)\n",
    "output_config_file = os.path.join(output_dir, CONFIG_NAME)\n",
    "\n",
    "torch.save(model_to_save.state_dict(), output_model_file)\n",
    "model_to_save.config.to_json_file(output_config_file)\n",
    "tokenizer.save_pretrained(output_dir)\n",
    "\n",
    "# Step 2: Re-load the saved model and vocabulary\n",
    "\n",
    "\n",
    "# Example for a GPT model\n",
    "model_gen = GPT2LMHeadModel.from_pretrained(output_dir)\n",
    "tokenizer_gen = AutoTokenizer.from_pretrained(output_dir)"
   ]
  },
  {
   "cell_type": "code",
   "execution_count": 14,
   "metadata": {},
   "outputs": [
    {
     "name": "stdout",
     "output_type": "stream",
     "text": [
      "[{'summary_text': 'Hegel was a political thinker in the sense that he re-interfaced with the needs and hopes of society and came to understand his own world. If we can re-interface with those needs we will become thinkers of the kind of thinkers that have re-formed and evolved the political order since the beginning of time.'}]\n"
     ]
    }
   ],
   "source": [
    "from transformers import AutoModelWithLMHead, AutoTokenizer, pipeline\n",
    "\n",
    "summarizer = pipeline(\"summarization\")\n",
    "model_sum = AutoModelWithLMHead.from_pretrained(\"t5-base\")\n",
    "tokenizer_sum = AutoTokenizer.from_pretrained(\"t5-base\")\n",
    "\n",
    "model_to_save = model_sum.module if hasattr(model_sum, 'module') else model_sum\n",
    "\n",
    "# If we save using the predefined names, we can load using `from_pretrained`\n",
    "output_model_file = os.path.join(output_dir, WEIGHTS_NAME)\n",
    "output_config_file = os.path.join(output_dir, CONFIG_NAME)\n",
    "\n",
    "torch.save(model_to_save.state_dict(), output_model_file)\n",
    "model_to_save.config.to_json_file(output_config_file)\n",
    "tokenizer.save_pretrained(output_dir)\n",
    "\n",
    "print(summarizer(generated, max_length=130, min_length=30))"
   ]
  },
  {
   "cell_type": "code",
   "execution_count": 16,
   "metadata": {},
   "outputs": [],
   "source": [
    "class NLP:\n",
    "    def __init__(self, model=None, tokenizer=None):\n",
    "        self.model = model\n",
    "        self.tokenizer = tokenizer\n",
    "        self.res = generated\n",
    "        \n",
    "    def generate(self, TRAIN_TEXT: str, prompt: str):\n",
    "        inputs = tokenizer.encode(PADDING_TEXT + prompt, add_special_tokens=False, return_tensors=\"pt\")\n",
    "\n",
    "        prompt_length = len(tokenizer.decode(inputs[0], skip_special_tokens=True, clean_up_tokenization_spaces=True))\n",
    "        outputs = model.generate(inputs, max_length=250, do_sample=True, top_p=0.95, top_k=60)\n",
    "        generated = prompt + tokenizer.decode(outputs[0])[prompt_length:]\n",
    "\n",
    "        return generated\n",
    "\n",
    "    def summarize(self):\n",
    "\n",
    "        summarizer = pipeline(\"summarization\")\n",
    "        model = AutoModelWithLMHead.from_pretrained(\"t5-base\")\n",
    "        tokenizer = AutoTokenizer.from_pretrained(\"t5-base\")\n",
    "\n",
    "        print()\n",
    "        return summarizer(generated, max_length=130, min_length=30)"
   ]
  },
  {
   "cell_type": "code",
   "execution_count": 17,
   "metadata": {},
   "outputs": [],
   "source": [
    "nlp=NLP(model_gen,tokenizer_gen)"
   ]
  },
  {
   "cell_type": "code",
   "execution_count": 18,
   "metadata": {},
   "outputs": [
    {
     "name": "stderr",
     "output_type": "stream",
     "text": [
      "Setting `pad_token_id` to 50256 (first `eos_token_id`) to generate sequence\n"
     ]
    },
    {
     "name": "stdout",
     "output_type": "stream",
     "text": [
      "I will never understand  this world of man-made contradictions. I will never be able to see how a democratic society, when we can use the democratic institutions to correct and strengthen the system of oppression of the individual, has anything even resembling a free will.\n",
      "\n",
      "The question of whether I, or any other human being, can or will willingly and consciously live on what will always exist, that human being is an independent individual—where is he or not? I, if I are not, will always suffer oppression.\n",
      "\n",
      "An independent individual does exist, not a set of rules.\n",
      "\n",
      "He or she is the totality of people—the collective reality of people.\n",
      "\n",
      "He or she is the totality of human nature.\n",
      "\n",
      "The whole can never be separated. He/she is the totality of people.\n",
      "\n",
      "We do not have a democracy, nor do we have any sovereign human will. This is why there can never be a political will of any sort.\n",
      "\n",
      "We cannot do this because the individual will to survive does not exist.\n",
      "\n",
      "This is also why we have no laws.\n",
      "\n",
      "What we have, is not the government.\n",
      "\n",
      "It is the individual who determines the state and the laws.\n",
      "\n",
      "We are not all governed by any particular society.\n",
      "\n",
      "We are not all governed by an arbitrary ruler.\n",
      "\n",
      "A democracy will survive, but not if it has no laws.\n",
      "\n",
      "The individual will survive because of the government.\n",
      "\n",
      "An independent and conscious human being does exist.\n",
      "\n",
      "Yes, he or she must survive, but not by living, living by laws or by any other sort of political and economic development.\n",
      "\n",
      "But if he or she is, or was, or really is a human being, and there are no laws, this makes him/her exist.\n",
      "\n",
      "Now, I believe there is a human being who lives on the basis of the laws; and I believe there is also a human being who lives on the basis of law.\n",
      "\n",
      "This is what I believe.\n",
      "\n",
      "I believe we need political will.\n",
      "\n",
      "The government\n"
     ]
    },
    {
     "data": {
      "text/plain": [
       "'I will never understand  this world of man-made contradictions. I will never be able to see how a democratic society, when we can use the democratic institutions to correct and strengthen the system of oppression of the individual, has anything even resembling a free will.\\n\\nThe question of whether I, or any other human being, can or will willingly and consciously live on what will always exist, that human being is an independent individual—where is he or not? I, if I are not, will always suffer oppression.\\n\\nAn independent individual does exist, not a set of rules.\\n\\nHe or she is the totality of people—the collective reality of people.\\n\\nHe or she is the totality of human nature.\\n\\nThe whole can never be separated. He/she is the totality of people.\\n\\nWe do not have a democracy, nor do we have any sovereign human will. This is why there can never be a political will of any sort.\\n\\nWe cannot do this because the individual will to survive does not exist.\\n\\nThis is also why we have no laws.\\n\\nWhat we have, is not the government.\\n\\nIt is the individual who determines the state and the laws.\\n\\nWe are not all governed by any particular society.\\n\\nWe are not all governed by an arbitrary ruler.\\n\\nA democracy will survive, but not if it has no laws.\\n\\nThe individual will survive because of the government.\\n\\nAn independent and conscious human being does exist.\\n\\nYes, he or she must survive, but not by living, living by laws or by any other sort of political and economic development.\\n\\nBut if he or she is, or was, or really is a human being, and there are no laws, this makes him/her exist.\\n\\nNow, I believe there is a human being who lives on the basis of the laws; and I believe there is also a human being who lives on the basis of law.\\n\\nThis is what I believe.\\n\\nI believe we need political will.\\n\\nThe government'"
      ]
     },
     "execution_count": 18,
     "metadata": {},
     "output_type": "execute_result"
    }
   ],
   "source": [
    "PADDING_TEXT =\"\"\"The work of an intellectual is not to mould the political will of others; it is, through the analyses that he does in his own field, to re-examine evidence and assumptions, to shake up habitual ways of working and thinking, to dissipate conventional familiarities, to re-evaluate rules and institutions and to participate in the formation of a political will (where he has his role as citizen to play)\"\"\"\n",
    "\n",
    "prompt = \"I will never understand \"\n",
    "nlp.generate(PADDING_TEXT,prompt)"
   ]
  },
  {
   "cell_type": "code",
   "execution_count": null,
   "metadata": {},
   "outputs": [],
   "source": [
    "nlp.summarize()"
   ]
  },
  {
   "cell_type": "code",
   "execution_count": null,
   "metadata": {},
   "outputs": [],
   "source": []
  },
  {
   "cell_type": "code",
   "execution_count": null,
   "metadata": {},
   "outputs": [],
   "source": []
  },
  {
   "cell_type": "code",
   "execution_count": null,
   "metadata": {},
   "outputs": [],
   "source": []
  }
 ],
 "metadata": {
  "kernelspec": {
   "display_name": "Python 3",
   "language": "python",
   "name": "python3"
  },
  "language_info": {
   "codemirror_mode": {
    "name": "ipython",
    "version": 3
   },
   "file_extension": ".py",
   "mimetype": "text/x-python",
   "name": "python",
   "nbconvert_exporter": "python",
   "pygments_lexer": "ipython3",
   "version": "3.7.7"
  }
 },
 "nbformat": 4,
 "nbformat_minor": 4
}
